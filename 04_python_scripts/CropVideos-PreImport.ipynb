{
 "cells": [
  {
   "cell_type": "markdown",
   "id": "2d5cd8e3",
   "metadata": {},
   "source": [
    "##### MAIN OVERVIEW:\n",
    "##### Written 2023/03 by Cooper DesMarteau\n",
    "##### Last updated: 2023/08/10 CL\n",
    "\n",
    "##### REQUIRES KERNEL No special kernel\n",
    "##### For Determining Real Bouts from Fiber Photometry Videos using DeepEthogram - Crops side-by-side top-down videos into separate videos for each animal and also \n",
    "        - Select videos desired\n",
    "        - Crop and split videos\n",
    "        - Save new videos to desired folder for importing into DeepEthogram"
   ]
  },
  {
   "cell_type": "code",
   "execution_count": 2,
   "id": "b063e494",
   "metadata": {},
   "outputs": [
    {
     "name": "stdout",
     "output_type": "stream",
     "text": [
      "Cropping:  Lebonville_20201026CL8A1B8_Cam1.avi\n",
      "Cropping:  Lebonville_20201027CL8A9B3_Cam1.avi\n",
      "Cropping:  Lebonville_20201028CL8A4B10_Cam1.avi\n",
      "Cropping:  Lebonville_20201029CL8A13B5_Cam1.avi\n",
      "Cropping:  Lebonville_20201030CL8A6B8_Cam1.avi\n",
      "Cropping:  Lebonville_20201102CL8A1B8_Cam1.avi\n",
      "Cropping:  Lebonville_20201103CL8A9B3_Cam1.avi\n",
      "Cropping:  Lebonville_20220425CL8A14B21_Cam1.avi\n",
      "Processing complete.\n"
     ]
    }
   ],
   "source": [
    "import os\n",
    "import cv2\n",
    "\n",
    "def split_and_save(l_or_r, input_dir, output_dir, video_name):\n",
    "    input_video = cv2.VideoCapture(os.path.join(input_dir, video_name))\n",
    "    frame_count = int(input_video.get(cv2.CAP_PROP_FRAME_COUNT))\n",
    "    frame_width = int(input_video.get(cv2.CAP_PROP_FRAME_WIDTH))\n",
    "    frame_height = int(input_video.get(cv2.CAP_PROP_FRAME_HEIGHT))\n",
    "    fps = int(input_video.get(cv2.CAP_PROP_FPS))\n",
    "\n",
    "    output_filename = video_name[:-4] + (\"A\" if l_or_r == \"l\" else \"B\") + \".avi\"\n",
    "    output_path = os.path.join(output_dir, output_filename)\n",
    "\n",
    "    video_writer = cv2.VideoWriter(output_path, cv2.VideoWriter_fourcc('X', 'V', 'I', 'D'), fps, (frame_width // 2, frame_height))\n",
    "\n",
    "    for i in range(frame_count):\n",
    "        ret, frame = input_video.read()\n",
    "        if not ret:\n",
    "            break\n",
    "\n",
    "        # crop the frame into two halves\n",
    "        if l_or_r == \"l\":\n",
    "            half = frame[:, :frame_width // 2, :]\n",
    "        else:\n",
    "            half = frame[:, frame_width // 2:, :]\n",
    "        video_writer.write(half)\n",
    "\n",
    "    # release resources\n",
    "    input_video.release()\n",
    "    video_writer.release()\n",
    "\n",
    "input_directory = r\"Y:\\Christina Lebonville\\CL8_Bout_Check\" # Change this to the path of your input directory\n",
    "output_directory = \"H:\\Desktop\\CL8_Bout_Check\" # Change this to the path of your output directory\n",
    "\n",
    "if not os.path.exists(output_directory):\n",
    "    os.makedirs(output_directory)\n",
    "\n",
    "# Iterate over all files in the input directory\n",
    "for filename in os.listdir(input_directory):\n",
    "    if filename.endswith('.avi'):\n",
    "        print(\"Cropping: \", filename)\n",
    "        split_and_save(\"l\", input_directory, output_directory, filename)\n",
    "        split_and_save(\"r\", input_directory, output_directory, filename)\n",
    "        \n",
    "\n",
    "print(\"Processing complete.\")\n"
   ]
  },
  {
   "cell_type": "code",
   "execution_count": null,
   "id": "16726eb7",
   "metadata": {},
   "outputs": [],
   "source": []
  }
 ],
 "metadata": {
  "kernelspec": {
   "display_name": "Python 3 (ipykernel)",
   "language": "python",
   "name": "python3"
  },
  "language_info": {
   "codemirror_mode": {
    "name": "ipython",
    "version": 3
   },
   "file_extension": ".py",
   "mimetype": "text/x-python",
   "name": "python",
   "nbconvert_exporter": "python",
   "pygments_lexer": "ipython3",
   "version": "3.7.13"
  }
 },
 "nbformat": 4,
 "nbformat_minor": 5
}
