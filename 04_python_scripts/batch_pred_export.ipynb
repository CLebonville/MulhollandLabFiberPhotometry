{
 "cells": [
  {
   "cell_type": "markdown",
   "id": "4d75da45",
   "metadata": {},
   "source": [
    "##### MAIN OVERVIEW:\n",
    "##### Written 2023/07 by Christina Lebonville\n",
    "##### Last updated: 2023/08/10\n",
    "###### For batch processing prediction export on all videos after finished model's inference.\n",
    "###### REQUIRED KERNEL: \"deg\"\n",
    "\n",
    "- Opens DEG Project\n",
    "- Exports Predictions to CSV for All Videos \n",
    "- MUST use \"python -m ipykernel install --user --name=deg\" in anaconda command line to make the deg environment detectable in the notebook and then select the environment in the notebook before running the below code"
   ]
  },
  {
   "cell_type": "code",
   "execution_count": 1,
   "id": "6574bfe3",
   "metadata": {
    "scrolled": true
   },
   "outputs": [
    {
     "name": "stderr",
     "output_type": "stream",
     "text": [
      "C:\\ProgramData\\Anaconda3\\envs\\deg\\lib\\site-packages\\tqdm\\auto.py:22: TqdmWarning: IProgress not found. Please update jupyter and ipywidgets. See https://ipywidgets.readthedocs.io/en/stable/user_install.html\n",
      "  from .autonotebook import tqdm as notebook_tqdm\n",
      "3 UNLABELED ROWS!VIDEO WILL NOT BE USED FOR FEATURE_EXTRACTOR OR SEQUENCE TRAINING.\n",
      "3 UNLABELED ROWS!VIDEO WILL NOT BE USED FOR FEATURE_EXTRACTOR OR SEQUENCE TRAINING.\n",
      "3 UNLABELED ROWS!VIDEO WILL NOT BE USED FOR FEATURE_EXTRACTOR OR SEQUENCE TRAINING.\n",
      "3 UNLABELED ROWS!VIDEO WILL NOT BE USED FOR FEATURE_EXTRACTOR OR SEQUENCE TRAINING.\n",
      "3 UNLABELED ROWS!VIDEO WILL NOT BE USED FOR FEATURE_EXTRACTOR OR SEQUENCE TRAINING.\n",
      "3 UNLABELED ROWS!VIDEO WILL NOT BE USED FOR FEATURE_EXTRACTOR OR SEQUENCE TRAINING.\n",
      "3 UNLABELED ROWS!VIDEO WILL NOT BE USED FOR FEATURE_EXTRACTOR OR SEQUENCE TRAINING.\n"
     ]
    },
    {
     "name": "stdout",
     "output_type": "stream",
     "text": [
      "Project Loaded Successfully Unless Errors Reported Above\n"
     ]
    }
   ],
   "source": [
    "import deepethogram\n",
    "import logging\n",
    "import multiprocessing\n",
    "import os\n",
    "import random\n",
    "import h5py\n",
    "from deepethogram import configuration, postprocessing, projects, utils, file_io\n",
    "from deepethogram.debug import print_dataset_info\n",
    "\n",
    "config_file='project_config.yaml'\n",
    "data_path='H://TrueBout-Gen4_deepethogram/DATA'\n",
    "project_path='H://TrueBout-Gen4_deepethogram/'\n",
    "\n",
    "\n",
    "files = os.listdir(project_path)\n",
    "assert 'DATA' in files, 'DATA directory not found! {}'.format(files)\n",
    "assert 'models' in files, 'models directory not found! {}'.format(files)\n",
    "assert 'project_config.yaml' in files, 'project config not found! {}'.format(files)\n",
    "\n",
    "print_dataset_info(os.path.join(project_path, 'DATA'))\n",
    "print('Project Loaded Successfully Unless Errors Reported Above')"
   ]
  },
  {
   "cell_type": "code",
   "execution_count": 7,
   "id": "a5fab0e3",
   "metadata": {},
   "outputs": [
    {
     "name": "stdout",
     "output_type": "stream",
     "text": [
      "resnet18\n",
      "|--- P: (89278, 3) float32\n",
      "|--- class_names: (3,) object\n",
      "|--- flow_features: (89278, 512) float32\n",
      "|--- logits: (89278, 3) float32\n",
      "|--- spatial_features: (89278, 512) float32\n",
      "|--- thresholds: (3,) float32\n",
      "resnet50\n",
      "|--- P: (89278, 3) float32\n",
      "|--- class_names: (3,) object\n",
      "|--- flow_features: (89278, 512) float32\n",
      "|--- logits: (89278, 3) float32\n",
      "|--- spatial_features: (89278, 512) float32\n",
      "|--- thresholds: (3,) float32\n",
      "tgmj\n",
      "|--- P: (89278, 3) float32\n",
      "|--- class_names: (3,) object\n",
      "|--- logits: (89278, 3) float32\n",
      "|--- thresholds: (3,) float32\n",
      "attrs: \n",
      "(89278, 3)\n",
      "[0.14078945 0.85931057 0.5       ]\n"
     ]
    }
   ],
   "source": [
    "##Double-check a random record to make sure an entry for the two models exists\n",
    "##in this case either ResNet18 (deg_f), ResNet50 (deg_m), or 3D-ResNet34 (deg_s) for Feature Extractor Model\n",
    "##and tgmj for the Sequence Model\n",
    "\n",
    "# this just parses our DATA directory, to get the path to each file for each video\n",
    "records = projects.get_records_from_datadir(os.path.join(project_path, 'DATA'))\n",
    "animal = random.choice(list(records.keys()))\n",
    "record = records[animal]\n",
    "\n",
    "# I call the file output by inference the `outputfile` in various places in the code\n",
    "outputfile = record['output']\n",
    "\n",
    "utils.print_hdf5(outputfile)\n",
    "\n",
    "##Optional, you can check the probabilities for each model if you want - may be useful in future\n",
    "# we use the h5py package for this\n",
    "#with h5py.File(outputfile, 'r') as f:\n",
    "#  probabilities = f['tgmj/P'][:]\n",
    "#  thresholds = f['tgmj/thresholds'][:]\n",
    "\n",
    "    # n frames x K behaviors\n",
    "#print(probabilities.shape)\n",
    "\n",
    "#print(thresholds)"
   ]
  },
  {
   "cell_type": "code",
   "execution_count": 2,
   "id": "a5a772e2",
   "metadata": {},
   "outputs": [
    {
     "name": "stdout",
     "output_type": "stream",
     "text": [
      "Success! Check your data path for updated prediction files.\n"
     ]
    }
   ],
   "source": [
    "cfg = configuration.make_postprocessing_cfg(project_path=project_path)\n",
    "#cfg.sequence.output_name='resnet50' ##To export feature extractor predictions instead of sequence predictions\n",
    "postprocessing.postprocess_and_save(cfg)\n",
    "print('Success! Check your data path for updated prediction files.')"
   ]
  },
  {
   "cell_type": "code",
   "execution_count": 4,
   "id": "ba7add63",
   "metadata": {},
   "outputs": [
    {
     "data": {
      "text/html": [
       "<div>\n",
       "<style scoped>\n",
       "    .dataframe tbody tr th:only-of-type {\n",
       "        vertical-align: middle;\n",
       "    }\n",
       "\n",
       "    .dataframe tbody tr th {\n",
       "        vertical-align: top;\n",
       "    }\n",
       "\n",
       "    .dataframe thead th {\n",
       "        text-align: right;\n",
       "    }\n",
       "</style>\n",
       "<table border=\"1\" class=\"dataframe\">\n",
       "  <thead>\n",
       "    <tr style=\"text-align: right;\">\n",
       "      <th></th>\n",
       "      <th>background</th>\n",
       "      <th>C</th>\n",
       "      <th>NC</th>\n",
       "    </tr>\n",
       "  </thead>\n",
       "  <tbody>\n",
       "    <tr>\n",
       "      <th>0</th>\n",
       "      <td>1</td>\n",
       "      <td>0</td>\n",
       "      <td>0</td>\n",
       "    </tr>\n",
       "    <tr>\n",
       "      <th>1</th>\n",
       "      <td>1</td>\n",
       "      <td>0</td>\n",
       "      <td>0</td>\n",
       "    </tr>\n",
       "    <tr>\n",
       "      <th>2</th>\n",
       "      <td>1</td>\n",
       "      <td>0</td>\n",
       "      <td>0</td>\n",
       "    </tr>\n",
       "    <tr>\n",
       "      <th>3</th>\n",
       "      <td>1</td>\n",
       "      <td>0</td>\n",
       "      <td>0</td>\n",
       "    </tr>\n",
       "    <tr>\n",
       "      <th>4</th>\n",
       "      <td>1</td>\n",
       "      <td>0</td>\n",
       "      <td>0</td>\n",
       "    </tr>\n",
       "  </tbody>\n",
       "</table>\n",
       "</div>"
      ],
      "text/plain": [
       "   background  C  NC\n",
       "0           1  0   0\n",
       "1           1  0   0\n",
       "2           1  0   0\n",
       "3           1  0   0\n",
       "4           1  0   0"
      ]
     },
     "execution_count": 4,
     "metadata": {},
     "output_type": "execute_result"
    }
   ],
   "source": [
    "# load a random record to see if predictions were successfully created\n",
    "import pandas as pd\n",
    "records = projects.get_records_from_datadir(os.path.join(project_path, 'DATA'))\n",
    "animal = random.choice(list(records.keys()))\n",
    "record = records[animal]\n",
    "# figure out the filename\n",
    "predictions_filename = os.path.join(os.path.dirname(record['rgb']), record['key'] + '_predictions.csv')\n",
    "assert os.path.isfile(predictions_filename)\n",
    "\n",
    "# read csv\n",
    "df = pd.read_csv(predictions_filename, index_col=0)\n",
    "# display outputs\n",
    "df.head()"
   ]
  },
  {
   "cell_type": "code",
   "execution_count": null,
   "id": "31862cff",
   "metadata": {},
   "outputs": [],
   "source": []
  }
 ],
 "metadata": {
  "kernelspec": {
   "display_name": "deg",
   "language": "python",
   "name": "deg"
  },
  "language_info": {
   "codemirror_mode": {
    "name": "ipython",
    "version": 3
   },
   "file_extension": ".py",
   "mimetype": "text/x-python",
   "name": "python",
   "nbconvert_exporter": "python",
   "pygments_lexer": "ipython3",
   "version": "3.7.13"
  }
 },
 "nbformat": 4,
 "nbformat_minor": 5
}
